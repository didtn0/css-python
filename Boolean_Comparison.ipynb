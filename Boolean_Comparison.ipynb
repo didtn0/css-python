{
 "cells": [
  {
   "cell_type": "code",
   "execution_count": 4,
   "metadata": {
    "collapsed": true
   },
   "outputs": [],
   "source": [
    "'''Boolean\n",
    "- True\n",
    "- False\n",
    "'''\n",
    "\n",
    "'''Comparison Operators\n",
    "- >\n",
    "- <\n",
    "- ==\n",
    "- !=\n",
    "- >=\n",
    "- <=\n",
    "'''\n",
    "\n",
    "# 변수선언\n",
    "\n",
    "a = 1\n",
    "b = 2\n",
    "c = 'Tiger'\n",
    "d = 'Toad'\n",
    "e = 'Cow'"
   ]
  },
  {
   "cell_type": "code",
   "execution_count": 5,
   "metadata": {
    "collapsed": false,
    "scrolled": true
   },
   "outputs": [
    {
     "name": "stdout",
     "output_type": "stream",
     "text": [
      "#Number Type Comparison\n",
      "False\n",
      "True\n",
      "False\n",
      "True\n",
      "False\n",
      "True\n"
     ]
    }
   ],
   "source": [
    "print('#Number Type Comparison')\n",
    "print(a > b)\n",
    "print(a < b)\n",
    "print(a == b)\n",
    "print(a != b)\n",
    "print(a >= b)\n",
    "print(a <= b)"
   ]
  },
  {
   "cell_type": "code",
   "execution_count": 8,
   "metadata": {
    "collapsed": false
   },
   "outputs": [
    {
     "name": "stdout",
     "output_type": "stream",
     "text": [
      "#String Type Comparison\n",
      "False\n",
      "True\n",
      "True\n",
      "False\n",
      "True\n",
      "False\n",
      "True\n"
     ]
    }
   ],
   "source": [
    "# TODO 파이썬에서 문자열 비교 확인 필요\n",
    "\n",
    "print('#String Type Comparison')\n",
    "print(c > d)\n",
    "print(c < d)\n",
    "print(e < c)\n",
    "print(c == d)\n",
    "print(c != d)\n",
    "print(c >= d)\n",
    "print(c <= d)"
   ]
  }
 ],
 "metadata": {
  "kernelspec": {
   "display_name": "Python 3",
   "language": "python",
   "name": "python3"
  },
  "language_info": {
   "codemirror_mode": {
    "name": "ipython",
    "version": 3
   },
   "file_extension": ".py",
   "mimetype": "text/x-python",
   "name": "python",
   "nbconvert_exporter": "python",
   "pygments_lexer": "ipython3",
   "version": "3.6.0"
  }
 },
 "nbformat": 4,
 "nbformat_minor": 2
}
