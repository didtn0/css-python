{
 "cells": [
  {
   "cell_type": "code",
   "execution_count": 333,
   "metadata": {
    "collapsed": false
   },
   "outputs": [
    {
     "name": "stdout",
     "output_type": "stream",
     "text": [
      "Alphabet Length:  26\n",
      "The length of the alphabet with spaces: 26\n",
      "Alphtbet List: ['A', 'B', 'C', 'D', 'E', 'F', 'G', 'H', 'I', 'J', 'K', 'L', 'M', 'N', 'O', 'P', 'Q', 'R', 'S', 'T', 'U', 'V', 'W', 'X', 'Y', 'Z']\n",
      "Alphtbet List Length: 26\n",
      "Try Count: 1\n"
     ]
    }
   ],
   "source": [
    "# 알고리즘\n",
    "\n",
    "'''Step1\n",
    "Step1-1-1. 변수 alphabet을 선언하고 값(A~Z)을 할당한다.\n",
    "Step1-1-2. 변수 alphabet의 문자열 길이를 확인한다(26개)\n",
    "Step1-2-1. 사용자의 입력값과 비교하기 위하여(리스트화) 알파벳 글자 사이에 스페이스를 추가한다.\n",
    "Step1-2-2. 변수 alphabet의 문자열 길이를 확인한다(26개 + 25개[스페이스])\n",
    "Step1-3-1. 변수 alphabet을 리스트 alphabet_list에 저장한다.\n",
    "Step1-3-2. 리스트 alphabet_list를 확인한다.\n",
    "Step1-4-1. 변수 alphabet_list의 길이를 alphabet_list에 저장한다.\n",
    "Step1-4-2. 리스트 alphabet_list_length의 길이를 확인한다.\n",
    "Step1-4-1. 시도 횟수를 변수 try_count에 저장한다.(26개)\n",
    "Step1-5-1. 변수 try_count에 초기화 값을 확인한다.\n",
    "'''\n",
    "\n",
    "alphabet = \"ABCDEFGHIJKLMNOPQRSTUVWXYZ\"\n",
    "print('Alphabet Length: ',len(alphabet))\n",
    "\n",
    "alphabet_space = \"A B C D E F G H I J K L M N O P Q R S T U V W X Y Z\"\n",
    "print('The length of the alphabet with spaces:', len(alphabet))\n",
    "\n",
    "alphabet_list = alphabet_space.split()\n",
    "print('Alphtbet List:', alphabet_list)\n",
    "\n",
    "alphabet_list_length = len(alphabet_list)\n",
    "print('Alphtbet List Length:', alphabet_list_length)\n",
    "\n",
    "try_conut = 1\n",
    "print('Try Count:', try_conut)"
   ]
  },
  {
   "cell_type": "code",
   "execution_count": 334,
   "metadata": {
    "collapsed": false
   },
   "outputs": [
    {
     "name": "stdout",
     "output_type": "stream",
     "text": [
      "Please enter one of the letters in the alphbet z\n",
      "z\n",
      "Z\n",
      "True\n"
     ]
    }
   ],
   "source": [
    "'''Step2\n",
    "Step2-1-1. 사용자가 입력한 데이터를 변수 user_input_letter_alphabet에 대입한다.\n",
    "Step2-1-2. 입력한 데이터를 출력한다.\n",
    "Step2-2-1. 사용자가 입력한 데이터를 대문자로 고정시키고 변수 trans_user_input_letter에 대입한다.\n",
    "Step2-2-2. 대문자로 변경한 데이터를 확인한다.\n",
    "Step2-3-1. 사용자가 입력한 데이터 값과 리스트 alphabet_list의 데이터를 비교하여 존재 유무에 따른\n",
    "           boolean 값을 변수 validator_data_compare에 대입한다.\n",
    "Step2-3-2. boolean 데이터 값을 확인한다.\n",
    "'''\n",
    "\n",
    "user_input_letter_alphabet = input(\"Please enter one of the letters in the alphbet \")\n",
    "print(user_input_letter_alphabet)\n",
    "trans_user_input_letter = user_input_letter_alphabet.upper()\n",
    "print(trans_user_input_letter)\n",
    "validator_data_compare = trans_user_input_letter in alphabet_list\n",
    "print(validator_data_compare)"
   ]
  },
  {
   "cell_type": "code",
   "execution_count": 335,
   "metadata": {
    "collapsed": false
   },
   "outputs": [
    {
     "name": "stdout",
     "output_type": "stream",
     "text": [
      "True\n",
      "Z\n"
     ]
    }
   ],
   "source": [
    "'''Step3\n",
    "Step3-1-1. 사용자가 입력한 데이터 값과 리스트 alphabet_list의 데이터를 비교하여 분기(if문) 처리한다.\n",
    "Step3-1-2. 비교한 데이터의 결과 값이 참이면 True를 출력한다.\n",
    "Step3-1-3. 비교한 데이터가 True인 데이터(객체)를 출력한다.\n",
    "Step3-2-1. 비교한 데이터의 결과 값이 거짓이면 조건을 만족할 때 까지 무한 반복시킨다.(while not True)\n",
    "Step3-2-2-1. 비교한 데이터의 결과 값이 거짓이면 Fasle를 출력한다.\n",
    "\n",
    "################## TODO 1- Step2의 로직과 동일 함수로 개선 할 수 있지 않을까? ##################\n",
    "Step3-2-2-2. 사용자가 입력한 데이터를 변수 user_input_letter_alphabet에 대입한다.\n",
    "Step3-2-2-3. 사용자가 입력한 데이터를 대문자로 고정시키고 변수 trans_user_input_letter에 대입한다.\n",
    "Step3-3-1. 사용자가 입력한 데이터 값과 리스트 alphabet_list의 데이터를 비교하여 존재 유무에 따른\n",
    "           boolean 값을 변수 validator_data_compare에 대입한다.\n",
    "Step3-3-2. boolean 데이터 값을 확인한다.\n",
    "Step3-3-3. 변수 validator_data_compare의 값이 true이면 else문을 타지 않는다.\n",
    "Step3-3-4. 비교한 데이터가 True인 데이터(객체)를 출력한다.\n",
    "#########################################################################################\n",
    "'''\n",
    "\n",
    "if validator_data_compare:\n",
    "    print(True)\n",
    "else:\n",
    "    while not validator_data_compare:\n",
    "        print(False)\n",
    "        user_input_letter_alphabet = input(\"Please enter one of the letters in the alphbet \")\n",
    "        trans_user_input_letter = user_input_letter_alphabet.upper() \n",
    "        validator_data_compare = trans_user_input_letter in alphabet_list\n",
    "        print(validator_data_compare)\n",
    "    \n",
    "print(trans_user_input_letter)"
   ]
  },
  {
   "cell_type": "code",
   "execution_count": 336,
   "metadata": {
    "collapsed": false
   },
   "outputs": [
    {
     "name": "stdout",
     "output_type": "stream",
     "text": [
      "25\n",
      "26\n",
      "['Z', 'A', 'B', 'C', 'D', 'E', 'F', 'G', 'H', 'I', 'J', 'K', 'L', 'M', 'N', 'O', 'P', 'Q', 'R', 'S', 'T', 'U', 'V', 'W', 'X', 'Y']\n"
     ]
    }
   ],
   "source": [
    "'''Step4\n",
    "Step4-1 사용자로부터 입력받은 알파벳 문자의 값을 변환한 변수 trans_user_input_letter의 데이터 값으로\n",
    "        리스트 alphabet_list의 인덱스 값을 변수 index_user_input에 대입한다.\n",
    "Step4-2 해당 문자열이 리스트 alphabet_list에서 위치하는 인덱스를 출력한다.(인덱스는 O부터 시작, Z는 25)\n",
    "Step4-3 리스트 alphabet_list의 길이를 변수\n",
    "'''\n",
    "index_user_input = alphabet_list.index(trans_user_input_letter)\n",
    "print(index_user_input)\n",
    "print(alphabet_list_length)\n",
    "\n",
    "if index_user_input == alphabet_list_length - (index_user_input + alphabet_list_length):\n",
    "    alphabet_list[0:1] = [ ]\n",
    "    print(alphabet_list + [trans_user_input_letter])\n",
    "elif index_user_input == alphabet_list_length - 1:\n",
    "    alphabet_list[index_user_input:alphabet_list_length] = [ ]\n",
    "    print([trans_user_input_letter] + alphabet_list)\n",
    "else: \n",
    "    print(\"이것을 구현\")"
   ]
  }
 ],
 "metadata": {
  "kernelspec": {
   "display_name": "Python 3",
   "language": "python",
   "name": "python3"
  },
  "language_info": {
   "codemirror_mode": {
    "name": "ipython",
    "version": 3
   },
   "file_extension": ".py",
   "mimetype": "text/x-python",
   "name": "python",
   "nbconvert_exporter": "python",
   "pygments_lexer": "ipython3",
   "version": "3.6.0"
  }
 },
 "nbformat": 4,
 "nbformat_minor": 2
}
