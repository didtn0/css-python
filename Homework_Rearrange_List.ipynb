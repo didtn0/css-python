{
 "cells": [
  {
   "cell_type": "code",
   "execution_count": 2,
   "metadata": {
    "collapsed": false,
    "deletable": true,
    "editable": true
   },
   "outputs": [
    {
     "name": "stdout",
     "output_type": "stream",
     "text": [
      "['A', 'B', 'C', 'D', 'E', 'F', 'G', 'H', 'I', 'J', 'K', 'L', 'M', 'N', 'O', 'P', 'Q', 'R', 'S', 'T', 'U', 'V', 'W', 'X', 'Y', 'Z']\n"
     ]
    }
   ],
   "source": [
    "# 알고리즘\n",
    "\n",
    "'''Step1 - 변수 선언\n",
    "Step1-1. alphabet: 알파벳 문자열 지정\n",
    "    @ Step1-2. alphabet_space: 알파벳 문자열에 스페이스바 추가\n",
    "    @ Step1-3. alphabet_list: 알파벳 리스트 생성\n",
    "Step1-1. alphabet_list: 알파벳 문자열을 리스트로 변환\n",
    "'''\n",
    "\n",
    "alphabet = \"ABCDEFGHIJKLMNOPQRSTUVWXYZ\"\n",
    "# alphabet_space = \"A B C D E F G H I J K L M N O P Q R S T U V W X Y Z\"\n",
    "# alphabet_list = alphabet_space.split()\n",
    "alphabet_list = list(alphabet)\n",
    "\n",
    "print(alphabet_list)"
   ]
  },
  {
   "cell_type": "code",
   "execution_count": 3,
   "metadata": {
    "collapsed": false,
    "deletable": true,
    "editable": true
   },
   "outputs": [
    {
     "name": "stdout",
     "output_type": "stream",
     "text": [
      "Please enter one of the letters in the alphbet1\n",
      "validation_data:  False 1\n"
     ]
    }
   ],
   "source": [
    "'''Step2 - 함수 정의\n",
    "Step2-1. validate_data(): 함수 선언\n",
    "Step2-2. user_input: 사용자 입력 UI제공(알파벳 한 글자)\n",
    "Step2-3. trans_user_input: 사용자 입력 값 대문자로 변경\n",
    "Stpe2-4. validator_data: 데이터 검증(Boolean: alphabet_list 과 trans_user_input 비교)\n",
    "Stpe2-5. return 값 지정: validator_data, trans_user_input\n",
    "Step2-6. validation_data: 함수 validate_data 의 return 값 대입\n",
    "         - validator_data\n",
    "         - trans_user_input\n",
    "Step2-7. validation_data 출력\n",
    "'''\n",
    "\n",
    "def validate_data():\n",
    "    user_input = input(\"Please enter one of the letters in the alphbet\")\n",
    "    trans_user_input = user_input.upper()\n",
    "    validator_data = trans_user_input in alphabet_list\n",
    "    return validator_data, trans_user_input\n",
    "\n",
    "\n",
    "validation_data = validate_data()\n",
    "print('validation_data: ', validation_data[0], validation_data[1])"
   ]
  },
  {
   "cell_type": "code",
   "execution_count": 4,
   "metadata": {
    "collapsed": false,
    "deletable": true,
    "editable": true
   },
   "outputs": [
    {
     "name": "stdout",
     "output_type": "stream",
     "text": [
      "Please enter one of the letters in the alphbet1\n",
      "Please enter one of the letters in the alphbet2\n",
      "Please enter one of the letters in the alphbet3\n",
      "Please enter one of the letters in the alphbet4\n",
      "Please enter one of the letters in the alphbet5\n",
      "Please enter one of the letters in the alphbet7\n",
      "Please enter one of the letters in the alphbet8\n",
      "Please enter one of the letters in the alphbet8\n",
      "Please enter one of the letters in the alphbet9\n",
      "Please enter one of the letters in the alphbet+\n",
      "Please enter one of the letters in the alphbetw\n",
      "True\n"
     ]
    }
   ],
   "source": [
    "'''Step3 - Step2에서 유효하지 않은 값 입력 시 반복 실행(사용자 입력)\n",
    "Step3-1. 반복문 실행 - validator_data가 True가 될때까지\n",
    "Step3-2. 함수호출: validate_data()\n",
    "Step3-3. 검증결과 출력\n",
    "'''\n",
    "\n",
    "while not validation_data[0]:\n",
    "    validation_data = validate_data()\n",
    "\n",
    "print(validation_data[0])"
   ]
  },
  {
   "cell_type": "code",
   "execution_count": 5,
   "metadata": {
    "collapsed": false,
    "deletable": true,
    "editable": true
   },
   "outputs": [
    {
     "name": "stdout",
     "output_type": "stream",
     "text": [
      "인덱스: 22 , 사용자 입력: W\n",
      "리스트 재배열: ['X', 'Y', 'Z', 'W', 'A', 'B', 'C', 'D', 'E', 'F', 'G', 'H', 'I', 'J', 'K', 'L', 'M', 'N', 'O', 'P', 'Q', 'R', 'S', 'T', 'U', 'V']\n",
      "리스트 문자열 변환: XYZWABCDEFGHIJKLMNOPQRSTUV\n"
     ]
    }
   ],
   "source": [
    "'''Step4 - 리스트의 재배열\n",
    "Step4-1. idx_user_input: 알파벳 리스트상의 사용자 입력 값 인덱스\n",
    "Step4-2. idx_user_input, 사용자 입력 값(대문자)\n",
    "Step4-3. previous_key: 알파벳 리스트의 [:사용자입력값인덱스] 리스트\n",
    "Step4-4. key: 사용자 입력 값 인덱스 리스트\n",
    "Step4-5. back_key: 알파벳 리스트의 [사용자입력값인덱스 + 1:] 리스트\n",
    "Step4-6. result: back_key + key + previous_key 구현\n",
    "         - 빈 리스트 []를 추가해도 상관이 없음\n",
    "Step4-7. 리스트를 문자열로 변환\n",
    "'''\n",
    "\n",
    "idx_user_input = alphabet_list.index(validation_data[1])\n",
    "print(\"인덱스:\",idx_user_input, \",\", \"사용자 입력:\", validation_data[1])\n",
    "\n",
    "previous_key = alphabet_list[:idx_user_input]\n",
    "key = [validation_data[1]]\n",
    "back_key = alphabet_list[idx_user_input + 1:]\n",
    "result = back_key + key + previous_key\n",
    "\n",
    "print(\"리스트 재배열:\", result)\n",
    "print(\"리스트 문자열 변환:\", ''.join(result))"
   ]
  },
  {
   "cell_type": "code",
   "execution_count": null,
   "metadata": {
    "collapsed": true
   },
   "outputs": [],
   "source": []
  }
 ],
 "metadata": {
  "kernelspec": {
   "display_name": "Python 3",
   "language": "python",
   "name": "python3"
  },
  "language_info": {
   "codemirror_mode": {
    "name": "ipython",
    "version": 3
   },
   "file_extension": ".py",
   "mimetype": "text/x-python",
   "name": "python",
   "nbconvert_exporter": "python",
   "pygments_lexer": "ipython3",
   "version": "3.6.0"
  }
 },
 "nbformat": 4,
 "nbformat_minor": 2
}
