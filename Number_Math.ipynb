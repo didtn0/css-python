{
 "cells": [
  {
   "cell_type": "code",
   "execution_count": 48,
   "metadata": {
    "collapsed": false
   },
   "outputs": [
    {
     "name": "stdout",
     "output_type": "stream",
     "text": [
      "\n",
      "\n"
     ]
    }
   ],
   "source": [
    "# <object> <operator> <object>\n",
    "# 변수선언\n",
    "\n",
    "a = 1\n",
    "b = 2\n",
    "c = 3\n",
    "d = 4\n",
    "e = 1.\n",
    "f = 0.1\n",
    "g = 0.2\n",
    "\n",
    "# 개행을 위한 함수 추가\n",
    "def break_line():\n",
    "    print('\\n')\n",
    "\n",
    "# new_line = break_line()"
   ]
  },
  {
   "cell_type": "code",
   "execution_count": 51,
   "metadata": {
    "collapsed": false,
    "deletable": true,
    "editable": true,
    "scrolled": true
   },
   "outputs": [
    {
     "name": "stdout",
     "output_type": "stream",
     "text": [
      "# Arithmethic Operator Of Integer\n",
      "3\n",
      "1\n",
      "3\n",
      "2.0\n",
      "<class 'float'>\n",
      "2\n",
      "0\n",
      "\n",
      "\n",
      "# Arithmethic Operator Of Floating-point Number\n",
      "3.0\n",
      "-2.0\n",
      "1.0\n",
      "0.5\n",
      "1.0\n",
      "0.0\n"
     ]
    }
   ],
   "source": [
    "print('# Arithmethic Operator Of Integer')\n",
    "print(a + b)\n",
    "print(d - c)\n",
    "print(c * a)\n",
    "print(d / b)  # 정수 / 정수 = 실수\n",
    "print(type(d / b))\n",
    "print(b // a)\n",
    "print(b % a)\n",
    "\n",
    "break_line()\n",
    "\n",
    "print('# Arithmethic Operator Of Floating-point Number')\n",
    "# 실수의 산술연산은 모두 실수\n",
    "print(e + b)\n",
    "print(e - c)\n",
    "print(e * a)\n",
    "print(e / b)\n",
    "print(e // a)\n",
    "print(e % a)"
   ]
  },
  {
   "cell_type": "code",
   "execution_count": 52,
   "metadata": {
    "collapsed": false
   },
   "outputs": [
    {
     "name": "stdout",
     "output_type": "stream",
     "text": [
      "# Floating-point Operation Error\n",
      "0.30000000000000004\n",
      "0.3\n",
      "-0.1\n",
      "0.020000000000000004\n",
      "0.02\n",
      "0.5\n",
      "0.0\n",
      "0.1\n"
     ]
    }
   ],
   "source": [
    "print('# Floating-point Operation Error')\n",
    "# 부동소수점 연산 오류 주의\n",
    "print(f + g)\n",
    "print(round((f + g),2)) # round함수를 이용한 소수점 지정 반올림 처리\n",
    "print(f - g)\n",
    "print(f * g)\n",
    "print(round((f * g),2)) # round함수를 이용한 소수점 지정 반올림 처리\n",
    "print(f / g)\n",
    "print(f // g)\n",
    "print(f % g)"
   ]
  },
  {
   "cell_type": "code",
   "execution_count": null,
   "metadata": {
    "collapsed": true
   },
   "outputs": [],
   "source": []
  }
 ],
 "metadata": {
  "kernelspec": {
   "display_name": "Python 3",
   "language": "python",
   "name": "python3"
  },
  "language_info": {
   "codemirror_mode": {
    "name": "ipython",
    "version": 3
   },
   "file_extension": ".py",
   "mimetype": "text/x-python",
   "name": "python",
   "nbconvert_exporter": "python",
   "pygments_lexer": "ipython3",
   "version": "3.6.0"
  }
 },
 "nbformat": 4,
 "nbformat_minor": 2
}
