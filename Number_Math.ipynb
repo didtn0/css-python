{
 "cells": [
  {
   "cell_type": "code",
   "execution_count": 2,
   "metadata": {
    "collapsed": false
   },
   "outputs": [
    {
     "name": "stdout",
     "output_type": "stream",
     "text": [
      "3\n",
      "1\n",
      "3\n",
      "2.0\n",
      "<class 'float'>\n",
      "2\n",
      "0\n"
     ]
    }
   ],
   "source": [
    "# <object> <operator> <object>\n",
    "\n",
    "a = 1\n",
    "b = 2\n",
    "c = 3\n",
    "d = 4\n",
    "\n",
    "print(a + b)\n",
    "print(d - c)\n",
    "print(c * a)\n",
    "print(d / b)  # 정수를 나누면 실수형으로 바뀐다.\n",
    "print(type(d / b))\n",
    "print(b // a)\n",
    "print(b % a)"
   ]
  }
 ],
 "metadata": {
  "kernelspec": {
   "display_name": "Python 3",
   "language": "python",
   "name": "python3"
  },
  "language_info": {
   "codemirror_mode": {
    "name": "ipython",
    "version": 3
   },
   "file_extension": ".py",
   "mimetype": "text/x-python",
   "name": "python",
   "nbconvert_exporter": "python",
   "pygments_lexer": "ipython3",
   "version": "3.6.0"
  }
 },
 "nbformat": 4,
 "nbformat_minor": 2
}
