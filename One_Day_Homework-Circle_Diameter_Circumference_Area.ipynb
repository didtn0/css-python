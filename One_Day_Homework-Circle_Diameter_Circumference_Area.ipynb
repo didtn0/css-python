{
 "cells": [
  {
   "cell_type": "code",
   "execution_count": 17,
   "metadata": {
    "collapsed": false
   },
   "outputs": [
    {
     "name": "stdout",
     "output_type": "stream",
     "text": [
      "반지름(radius = 10)을 선언한 뒤, \n",
      "이를 이용하여 원의 지름, 둘레, 넓이를 각각\n",
      "출력하시오.\n",
      "\n",
      "*원주율 근삿값(pie = 3.14)\n",
      "\n"
     ]
    }
   ],
   "source": [
    "question1 = '''반지름(radius = 10)을 선언한 뒤, \n",
    "이를 이용하여 원의 지름, 둘레, 넓이를 각각\n",
    "출력하시오.\n",
    "\n",
    "*원주율 근삿값(pie = 3.14)\n",
    "'''\n",
    "\n",
    "print(question1)"
   ]
  },
  {
   "cell_type": "code",
   "execution_count": 18,
   "metadata": {
    "collapsed": false
   },
   "outputs": [
    {
     "name": "stdout",
     "output_type": "stream",
     "text": [
      "circle_diameter:  20\n",
      "circle_circumference:  62.800000000000004\n",
      "circle_area:  31.400000000000002\n"
     ]
    }
   ],
   "source": [
    "'''\n",
    "원의 지름: 반지름 * 2\n",
    "원의 둘레: 반지름 * 2 * 원주율\n",
    "원의 넓이: 반지름 * 반지름 * 원주율\n",
    "'''\n",
    "\n",
    "# 변수선언\n",
    "\n",
    "radius = 10\n",
    "pie = 3.14\n",
    "\n",
    "circle_diameter = radius * 2\n",
    "circle_circumference = radius * 2 * pie\n",
    "circle_area = radius * pie\n",
    "\n",
    "print(\"circle_diameter: \", circle_diameter)\n",
    "print(\"circle_circumference: \", circle_circumference)\n",
    "print(\"circle_area: \", circle_area)"
   ]
  },
  {
   "cell_type": "code",
   "execution_count": 19,
   "metadata": {
    "collapsed": false
   },
   "outputs": [
    {
     "name": "stdout",
     "output_type": "stream",
     "text": [
      "circle_diameter:  20\n",
      "circle_circumference:  63\n",
      "circle_area:  31\n"
     ]
    }
   ],
   "source": [
    "question2 = '''반지름(radius = 10)을 선언한 뒤, \n",
    "이를 이용하여 원의 지름, 둘레, 넓이를 각각\n",
    "출력하시오. 단, 소수 첫째 자리에서 받올림하시오.\n",
    "'''\n",
    "\n",
    "print(\"circle_diameter: \", circle_diameter)\n",
    "print(\"circle_circumference: \", round(circle_circumference))\n",
    "print(\"circle_area: \", round(circle_area))"
   ]
  },
  {
   "cell_type": "code",
   "execution_count": 20,
   "metadata": {
    "collapsed": false
   },
   "outputs": [
    {
     "name": "stdout",
     "output_type": "stream",
     "text": [
      "circle_diameter:  20\n",
      "circle_circumference:  62.800000000000004\n",
      "circle_area:  31.400000000000002\n"
     ]
    }
   ],
   "source": [
    "question3 = '''question1의 문제를\n",
    "함수를 생성하여 풀이하시오.\n",
    "'''\n",
    "\n",
    "# 원의 지름\n",
    "\n",
    "def my_function_circle_diameter(radius):\n",
    "    return radius * 2\n",
    "\n",
    "circle_diameter = my_function_circle_diameter(radius)\n",
    "print(\"circle_diameter: \", circle_diameter)\n",
    "\n",
    "\n",
    "# 원의 둘레\n",
    "\n",
    "def my_function_circle_circumference(radius, pie):\n",
    "    return radius * 2 * pie\n",
    "\n",
    "circle_circumference = my_function_circle_circumference(radius, pie)\n",
    "print(\"circle_circumference: \", circle_circumference)\n",
    "\n",
    "\n",
    "# 원의 넓이\n",
    "\n",
    "def my_function_circle_area(radius, pie):\n",
    "    return radius * pie\n",
    "\n",
    "circle_area = my_function_circle_area(radius, pie)\n",
    "print(\"circle_area: \", circle_area)\n",
    "\n",
    "circle_area = radius * pie\n",
    "    "
   ]
  },
  {
   "cell_type": "code",
   "execution_count": 22,
   "metadata": {
    "collapsed": false
   },
   "outputs": [
    {
     "name": "stdout",
     "output_type": "stream",
     "text": [
      "circle_diameter:  200\n",
      "circle_circumference:  628.0\n",
      "circle_area:  314.0\n"
     ]
    }
   ],
   "source": [
    "question4 = '''question3의 함수를 이용하여\n",
    "반지름이 100인 원의 지름, 둘레, 넓이를 구하시오.\n",
    "'''\n",
    "\n",
    "# 원의 지름\n",
    "\n",
    "# def my_function_circle_diameter(radius):\n",
    "#     return radius * 2\n",
    "\n",
    "circle_diameter = my_function_circle_diameter(100)\n",
    "print(\"circle_diameter: \", circle_diameter)\n",
    "\n",
    "\n",
    "# 원의 둘레\n",
    "\n",
    "# def my_function_circle_circumference(radius, pie):\n",
    "#     return radius * 2 * pie\n",
    "\n",
    "circle_circumference = my_function_circle_circumference(100, pie)\n",
    "print(\"circle_circumference: \", circle_circumference)\n",
    "\n",
    "\n",
    "# 원의 넓이\n",
    "\n",
    "# def my_function_circle_area(radius, pie):\n",
    "#     return radius * pie\n",
    "\n",
    "circle_area = my_function_circle_area(100, pie)\n",
    "print(\"circle_area: \", circle_area)\n",
    "\n",
    "circle_area = radius * pie"
   ]
  }
 ],
 "metadata": {
  "kernelspec": {
   "display_name": "Python 3",
   "language": "python",
   "name": "python3"
  },
  "language_info": {
   "codemirror_mode": {
    "name": "ipython",
    "version": 3
   },
   "file_extension": ".py",
   "mimetype": "text/x-python",
   "name": "python",
   "nbconvert_exporter": "python",
   "pygments_lexer": "ipython3",
   "version": "3.6.0"
  }
 },
 "nbformat": 4,
 "nbformat_minor": 2
}
