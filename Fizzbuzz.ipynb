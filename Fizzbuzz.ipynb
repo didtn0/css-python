{
 "cells": [
  {
   "cell_type": "code",
   "execution_count": 7,
   "metadata": {
    "collapsed": false,
    "deletable": true,
    "editable": true
   },
   "outputs": [
    {
     "name": "stdout",
     "output_type": "stream",
     "text": [
      "Please enter a positive integer30\n"
     ]
    }
   ],
   "source": [
    "'''Fizzbuzz\n",
    "Step1. 사용자에게 숫자 값(양의 정수)을 입력받는다.\n",
    "    1-1. 숫자 값인 경우 변수 input_user_num의 변수에 저장\n",
    "'''\n",
    "   \n",
    "input_user_num = eval(input(\"Please enter a positive integer\"))"
   ]
  },
  {
   "cell_type": "code",
   "execution_count": 8,
   "metadata": {
    "collapsed": false
   },
   "outputs": [
    {
     "name": "stdout",
     "output_type": "stream",
     "text": [
      "30\n"
     ]
    }
   ],
   "source": [
    "'''\n",
    "Step2. 입력 값에 따른 조건처리(input)\n",
    "    2-1. 숫자 값인 경우 변수 input_user_num의 변수에 저장\n",
    "    ############ Todo 데이터 유효성 처리 ############\n",
    "    2-2. 숫자 값(양의 정수)가 아닌 경우에 대한 처리 필요\n",
    "    ##############################################\n",
    "    try, execpt문 처리가 끝인가?\n",
    "    \n",
    "    가령,\n",
    "    \n",
    "    eval(input(\"Please enter a positive integer\"))\n",
    "    코드 실행시, 사용자에게 input 창을 제공하면,\n",
    "    내가 원하는 코드는 양의 정수의 값인데\n",
    "    'string', 또는 string 이라는 의도치 않은 값에 대한 처리는\n",
    "    어떻게 하는가?\n",
    "'''\n",
    "\n",
    "print(input_user_num)"
   ]
  },
  {
   "cell_type": "code",
   "execution_count": 9,
   "metadata": {
    "collapsed": false,
    "deletable": true,
    "editable": true
   },
   "outputs": [
    {
     "name": "stdout",
     "output_type": "stream",
     "text": [
      "30 - Fizzbuzz\n",
      "29\n",
      "28\n",
      "27 - Fizz\n",
      "26\n",
      "25 - Buzz\n",
      "24 - Fizz\n",
      "23\n",
      "22\n",
      "21 - Fizz\n",
      "20 - Buzz\n",
      "19\n",
      "18 - Fizz\n",
      "17\n",
      "16\n",
      "15 - Fizzbuzz\n",
      "14\n",
      "13\n",
      "12 - Fizz\n",
      "11\n",
      "10 - Buzz\n",
      "9 - Fizz\n",
      "8\n",
      "7\n",
      "6 - Fizz\n",
      "5 - Buzz\n",
      "4\n",
      "3 - Fizz\n",
      "2\n",
      "1\n"
     ]
    }
   ],
   "source": [
    "'''\n",
    "Step3. input_num의 데이터 값에 따른 결과 처리\n",
    "    3-1. 데이터 검증을 휘한 함수 vaildator_fizzbuzz 함수 선언\n",
    "    3-2. 함수 내부에서 전역 변수 'input_user_num'를 처리하기 위한 \n",
    "         지역 변수 temp_num 생성\n",
    "    3-3. while문을 통한 데이터 검증\n",
    "         (입력 값 ~ 1까지 출력)\n",
    "    3-4. 데이터 값이 3의 배수인 경우 'Fizz' 출력\n",
    "    3-5. 데이터 값이 5의 배수인 경우 'Buzz' 출력\n",
    "    3-6. 데이터 값이 15의 배수인 경우 'Fizzbuzz' 출력\n",
    "    3-7. 데이터 값이 3, 5, 15의 배수가 아닌 경우 데이터 값 그대로 출력한다.\n",
    "'''\n",
    "\n",
    "def validator_fizzbuzz(num):\n",
    "    temp_num = input_user_num\n",
    "    while temp_num >= 1:\n",
    "        if temp_num % 15 == 0:\n",
    "            print(temp_num, \"- \" + \"Fizzbuzz\")   \n",
    "        elif temp_num % 5 == 0:\n",
    "            print(temp_num, \"- \" + \"Buzz\")\n",
    "        elif temp_num % 3 == 0:\n",
    "            print(temp_num, \"- \" + \"Fizz\")\n",
    "        else:\n",
    "            print(temp_num)\n",
    "        temp_num -= 1\n",
    "        \n",
    "    \n",
    "validator_fizzbuzz(input_user_num)"
   ]
  },
  {
   "cell_type": "code",
   "execution_count": null,
   "metadata": {
    "collapsed": true
   },
   "outputs": [],
   "source": []
  }
 ],
 "metadata": {
  "kernelspec": {
   "display_name": "Python 3",
   "language": "python",
   "name": "python3"
  },
  "language_info": {
   "codemirror_mode": {
    "name": "ipython",
    "version": 3
   },
   "file_extension": ".py",
   "mimetype": "text/x-python",
   "name": "python",
   "nbconvert_exporter": "python",
   "pygments_lexer": "ipython3",
   "version": "3.6.0"
  }
 },
 "nbformat": 4,
 "nbformat_minor": 2
}
