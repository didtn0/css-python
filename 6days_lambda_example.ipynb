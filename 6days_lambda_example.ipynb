{
 "cells": [
  {
   "cell_type": "code",
   "execution_count": 185,
   "metadata": {
    "collapsed": false,
    "deletable": true,
    "editable": true
   },
   "outputs": [
    {
     "data": {
      "text/plain": [
       "3"
      ]
     },
     "execution_count": 185,
     "metadata": {},
     "output_type": "execute_result"
    }
   ],
   "source": [
    "# 1. 함수 객체 생성\n",
    "# 2. add_two 이름(메모리)을 할당\n",
    "\n",
    "def add_two(a, b):\n",
    "    return a+b\n",
    "\n",
    "\n",
    "f = add_two\n",
    "\n",
    "f(1,2)"
   ]
  },
  {
   "cell_type": "code",
   "execution_count": 50,
   "metadata": {
    "collapsed": false
   },
   "outputs": [
    {
     "data": {
      "text/plain": [
       "3"
      ]
     },
     "execution_count": 50,
     "metadata": {},
     "output_type": "execute_result"
    }
   ],
   "source": [
    "''' lambda(익명함수)\n",
    "- 함수를 선언하는 이유: 재사용\n",
    "- 한 번만 사용하는 함수: lambda\n",
    "- lambda 사용의 장점: 메모리 절약, 가독성, pythonic(한 줄로 처리~)\n",
    "'''\n",
    "\n",
    "# 1. map: mapping\n",
    "# 2. filter\n",
    "# 3. reduce\n",
    "\n",
    "\n",
    "# add_two 함수를 lambda 식으로 변경\n",
    "f = lambda a, b : a + b  # 인자 : 조건식, [iterable 객체]\n",
    "f(1, 2)"
   ]
  },
  {
   "cell_type": "code",
   "execution_count": 69,
   "metadata": {
    "collapsed": false
   },
   "outputs": [
    {
     "name": "stdout",
     "output_type": "stream",
     "text": [
      "[1, 4, 9]\n"
     ]
    }
   ],
   "source": [
    "''' Question\n",
    "- li리스트의 각 원소의 제곱근을 구하라.\n",
    "- result = [1, 4, 9]  \n",
    "'''\n",
    "\n",
    "li = [1, 2, 3]\n",
    "\n",
    "\n",
    "# 전통적인 프로그램 방식\n",
    "result = []\n",
    "for e in li:\n",
    "    result.append(e ** 2)\n",
    "    \n",
    "print(result)\n"
   ]
  },
  {
   "cell_type": "code",
   "execution_count": 187,
   "metadata": {
    "collapsed": false
   },
   "outputs": [
    {
     "data": {
      "text/plain": [
       "[1, 4, 9]"
      ]
     },
     "execution_count": 187,
     "metadata": {},
     "output_type": "execute_result"
    }
   ],
   "source": [
    "# map 으로 변경\n",
    "\n",
    "li = [1, 2, 3]\n",
    "\n",
    "'''list(map()) \n",
    "1. 요소의 값을 매핑한다.\n",
    "2. list(map(lambda 인자 : 조건식, iterable 객체))\n",
    "    2-1. 인자: 인수, argument\n",
    "    2-2. 조건식(function)\n",
    "    2-3. iterable(반복해서 요소 하나하나를 반환 가능한 자료형 - list, str, tuple, dict)\n",
    "\n",
    "# iterable: member를 하나씩 차례로 반환 가능한  object를 말한다.\n",
    "# map을 통하여 반환하는 값은 list가 아니다. map객체 반환 - 메모리 절약(게으른 연산)\n",
    "'''\n",
    "\n",
    "# todo4. lambda 대신에 func(함수)를 대체하는 방법\n",
    "list(map(lambda e: e ** 2, li))"
   ]
  },
  {
   "cell_type": "code",
   "execution_count": 188,
   "metadata": {
    "collapsed": false
   },
   "outputs": [
    {
     "name": "stdout",
     "output_type": "stream",
     "text": [
      "1\n",
      "2\n",
      "3\n"
     ]
    }
   ],
   "source": [
    "# iterable 객체 테스트\n",
    "\n",
    "# list\n",
    "temp_list = [1, 2, 3,]\n",
    "\n",
    "for e in temp_list:\n",
    "    print(e)"
   ]
  },
  {
   "cell_type": "code",
   "execution_count": 189,
   "metadata": {
    "collapsed": false
   },
   "outputs": [
    {
     "name": "stdout",
     "output_type": "stream",
     "text": [
      "I\n",
      " \n",
      "a\n",
      "m\n",
      " \n",
      "y\n",
      "o\n",
      "u\n",
      "r\n",
      " \n",
      "f\n",
      "a\n",
      "t\n",
      "h\n",
      "e\n",
      "r\n",
      "!\n"
     ]
    }
   ],
   "source": [
    "# iterable 객체 테스트\n",
    "\n",
    "# str\n",
    "temp_str = 'I am your father!'\n",
    "\n",
    "for e in temp_str:\n",
    "    print(e)"
   ]
  },
  {
   "cell_type": "code",
   "execution_count": 191,
   "metadata": {
    "collapsed": false
   },
   "outputs": [
    {
     "name": "stdout",
     "output_type": "stream",
     "text": [
      "1\n",
      "2\n",
      "3\n"
     ]
    }
   ],
   "source": [
    "# iterable 객체 테스트\n",
    "\n",
    "# tuple\n",
    "temp_tuple = (1, 2, 3)\n",
    "\n",
    "for e in temp_tuple:\n",
    "    print(e)"
   ]
  },
  {
   "cell_type": "code",
   "execution_count": 207,
   "metadata": {
    "collapsed": false
   },
   "outputs": [
    {
     "name": "stdout",
     "output_type": "stream",
     "text": [
      "one\n",
      "two\n",
      "\n",
      "*******************dict 자료 접근하기*******************\n",
      "\n",
      "1\n",
      "None\n",
      "0\n",
      "\n"
     ]
    }
   ],
   "source": [
    "# iterable 객체 테스트\n",
    "\n",
    "# dict\n",
    "temp_dict = {'one': 1, 'two': 2,}\n",
    "\n",
    "\n",
    "'''\n",
    "# TODO 1. for문 안에서 dict의 값만 가져오는 방법\n",
    "# TODO 2. for문 안에서 dict의 키와 값 모두 가져오는 방법\n",
    "'''\n",
    "\n",
    "for e in temp_dict:\n",
    "    print(e)\n",
    "\n",
    "\n",
    "print()\n",
    "print('*******************dict 자료 접근하기*******************')\n",
    "print()\n",
    "    \n",
    "print(temp_dict['one']) # dict: 키를 통한 값 가져오기\n",
    "# CHECK!!! 존재하지 않는 키 접근 시 KeyError를 이에 대한 처리로 .get() 사용\n",
    "# print(temp_dict['three']) # dict: 존재하지 않는 키 접근 시 - KeyError\n",
    "print(temp_dict.get('three')) # dict: 존재하지 않는 키 접근 시 - 예외 처리 .get()\n",
    "print(temp_dict.get('three', 0)) # dict: 존재하지 않는 키 접근 시 - 예외 처리 .get()\n",
    "\n",
    "''' .get()\n",
    "dict에 키가 존재하지 않는 키로 값을 부르면 KeyError 예외가 발생합니다.\n",
    "이를 방지하기 위해 .get() 를 사용한다.\n",
    "\n",
    "get(키, default = None) 형태입니다. \n",
    "[] 를 이용해서 딕셔너리에 접근했는데 해당 키가 없으면 기본적으로 예외가 발생하지만,\n",
    "get()을 사용하면 예외가 발생하지 않고 두 번째 인자 값을 반환한다.\n",
    "'''\n",
    "\n",
    "print()"
   ]
  },
  {
   "cell_type": "code",
   "execution_count": 194,
   "metadata": {
    "collapsed": false
   },
   "outputs": [
    {
     "name": "stdout",
     "output_type": "stream",
     "text": [
      "['s', 't', 'r', 'i', 'n', 'g']\n"
     ]
    }
   ],
   "source": [
    "# list(): 자료형을 리스트로 만들어 주는 내장 함수\n",
    "\n",
    "s = 'string'\n",
    "l = list(s)\n",
    "print(l)"
   ]
  },
  {
   "cell_type": "code",
   "execution_count": 196,
   "metadata": {
    "collapsed": false
   },
   "outputs": [
    {
     "name": "stdout",
     "output_type": "stream",
     "text": [
      "[1, 2, 3, 4]\n",
      "[1, 2, 3, 4, '사']\n",
      "[1, 2, 3, 4, '사', True]\n",
      "[1, 2, 3, 4, '사', True, ['a', 'b']]\n",
      "[1, 2, 3, 4, '사', True, ['a', 'b'], ('A', 'B')]\n",
      "[1, 2, 3, 4, '사', True, ['a', 'b'], ('A', 'B'), {4, 5}]\n",
      "[1, 2, 3, 4, '사', True, ['a', 'b'], ('A', 'B'), {4, 5}, {'1day': 10, '2 day': 20}]\n"
     ]
    }
   ],
   "source": [
    "# Study\n",
    "# 리스트에 요소 추가(append)\n",
    "# 리스트에 마지막에 요소(x)를 추가시키는 함수이다.\n",
    "\n",
    "a = [1, 2, 3]\n",
    "a.append(4)  # 숫자 추가\n",
    "print(a)\n",
    "a.append(\"사\")  # 문자 추가\n",
    "print(a)\n",
    "a.append(True)  # 부울 추가\n",
    "print(a)\n",
    "a.append(['a', 'b',])  # 리스트 추가\n",
    "print(a)\n",
    "a.append(('A', 'B'))  # 튜플 추가\n",
    "print(a)\n",
    "a.append({4, 5,})  # 집합 추가\n",
    "print(a)\n",
    "a.append({'1day': 10, '2 day': 20,})  # 사전 추가\n",
    "print(a)"
   ]
  },
  {
   "cell_type": "code",
   "execution_count": 197,
   "metadata": {
    "collapsed": false
   },
   "outputs": [
    {
     "name": "stdout",
     "output_type": "stream",
     "text": [
      "['음수', '음수', 0, '양수', '양수']\n"
     ]
    }
   ],
   "source": [
    "''' Question\n",
    "- result = [\"음수\", \"음수\", 0, \"양수\", \"양수\"]\n",
    "- 삼항연산자\n",
    "- 값을 매핑한다: map()\n",
    "'''\n",
    "\n",
    "li = [-3, -2, 0, 6, 8]\n",
    "result = []\n",
    "\n",
    "# 전통적인 프로그램 방식\n",
    "for e in li:\n",
    "    def trans_element(e):\n",
    "        '''\n",
    "        if e > 0:\n",
    "            return \"양수\"\n",
    "        elif e < 0:\n",
    "            return \"음수\"\n",
    "        else:\n",
    "            return 0\n",
    "        '''\n",
    "        return \"양수\" if e > 0 else (\"음수\" if e < 0 else 0)\n",
    "    \n",
    "    \n",
    "    complete_trans_element = trans_element(e)   \n",
    "\n",
    "    result.append(complete_trans_element)\n",
    "    \n",
    "print(result)"
   ]
  },
  {
   "cell_type": "code",
   "execution_count": 199,
   "metadata": {
    "collapsed": false
   },
   "outputs": [
    {
     "data": {
      "text/plain": [
       "['음수', '음수', 0, '양수', '양수']"
      ]
     },
     "execution_count": 199,
     "metadata": {},
     "output_type": "execute_result"
    }
   ],
   "source": [
    "# result = [\"음수\", \"음수\", 0, \"양수\", \"양수\"]\n",
    "\n",
    "li = [-3, -2, 0, 6, 8]\n",
    "\n",
    "    \n",
    "# map함수를 이용한 원소 값 매핑\n",
    "list(map(lambda e: \"양수\" if e > 0 else (\"음수\" if e < 0 else 0), li))"
   ]
  },
  {
   "cell_type": "code",
   "execution_count": 200,
   "metadata": {
    "collapsed": false
   },
   "outputs": [
    {
     "name": "stdout",
     "output_type": "stream",
     "text": [
      "25\n"
     ]
    }
   ],
   "source": [
    "# 리스트 li 변수 요소 중에 최대 값을 구하여라\n",
    "li = [10, 25, 2, 6, 7, 5]\n",
    "\n",
    "# 전통적인 방식\n",
    "def maximum(li):\n",
    "    default = 0\n",
    "    for e in li:\n",
    "        if default < e:\n",
    "            default = e\n",
    "    return default\n",
    "\n",
    "\n",
    "get_maximum = maximum(li)\n",
    "\n",
    "print(get_maximum)"
   ]
  },
  {
   "cell_type": "code",
   "execution_count": 201,
   "metadata": {
    "collapsed": false
   },
   "outputs": [
    {
     "data": {
      "text/plain": [
       "25"
      ]
     },
     "execution_count": 201,
     "metadata": {},
     "output_type": "execute_result"
    }
   ],
   "source": [
    "from functools import reduce  #import 모듈을 호출한다.\n",
    "\n",
    "# 리스트 li 변수 요소 중에 최대 값을 구하여라\n",
    "# 삼항 연산자\n",
    "\n",
    "li = [10, 25, 2, 6, 7, 5]\n",
    "\n",
    "\n",
    "reduce(lambda x, y : x if x > y else y, li)"
   ]
  },
  {
   "cell_type": "code",
   "execution_count": 204,
   "metadata": {
    "collapsed": false
   },
   "outputs": [
    {
     "data": {
      "text/plain": [
       "2"
      ]
     },
     "execution_count": 204,
     "metadata": {},
     "output_type": "execute_result"
    }
   ],
   "source": [
    "# 리스트 li 변수 요소 중에 최소 값을 구하여라\n",
    "reduce(lambda x, y : x if x < y else y, li)"
   ]
  },
  {
   "cell_type": "code",
   "execution_count": 205,
   "metadata": {
    "collapsed": false
   },
   "outputs": [
    {
     "data": {
      "text/plain": [
       "55"
      ]
     },
     "execution_count": 205,
     "metadata": {},
     "output_type": "execute_result"
    }
   ],
   "source": [
    "# 리스트 li 변수 요소의 합을 구하여라\n",
    "reduce(lambda x, y : x + y, li)"
   ]
  },
  {
   "cell_type": "code",
   "execution_count": 206,
   "metadata": {
    "collapsed": false
   },
   "outputs": [
    {
     "name": "stdout",
     "output_type": "stream",
     "text": [
      "\n"
     ]
    }
   ],
   "source": [
    "'''\n",
    "# TODO lambda 활용 예제 보강\n",
    "# filter 예제 추가 확인 필요\n",
    "# list중 0을 포함한 음수의 값을 필터링하고, 양의 정수의 값을 제곱근해라.\n",
    "# list중 가장 많이 사용한 문자열 구하기: 객체로 출력하라\n",
    "'''\n",
    "\n",
    "print()"
   ]
  }
 ],
 "metadata": {
  "kernelspec": {
   "display_name": "Python 3",
   "language": "python",
   "name": "python3"
  },
  "language_info": {
   "codemirror_mode": {
    "name": "ipython",
    "version": 3
   },
   "file_extension": ".py",
   "mimetype": "text/x-python",
   "name": "python",
   "nbconvert_exporter": "python",
   "pygments_lexer": "ipython3",
   "version": "3.6.0"
  }
 },
 "nbformat": 4,
 "nbformat_minor": 2
}
